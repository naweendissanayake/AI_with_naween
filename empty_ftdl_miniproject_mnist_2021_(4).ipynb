{
 "cells": [
  {
   "cell_type": "markdown",
   "metadata": {
    "id": "zVlZdS55LgNF"
   },
   "source": [
    "### Student contributions\n",
    "\n",
    "* Student `Dissanayake` has ...\n",
    "* Student `Baykara` has ..."
   ]
  },
  {
   "cell_type": "code",
   "execution_count": 1,
   "metadata": {
    "id": "I4q9xjU2LgNF"
   },
   "outputs": [],
   "source": [
    "%matplotlib inline\n",
    "%load_ext autoreload\n",
    "%autoreload "
   ]
  },
  {
   "cell_type": "code",
   "execution_count": 2,
   "metadata": {
    "id": "uafqT8CnLgNF"
   },
   "outputs": [],
   "source": [
    "import os\n",
    "import sys\n",
    "import time\n",
    "\n",
    "import numpy as np\n",
    "import matplotlib.pyplot as plt\n",
    "import pandas as pd\n",
    "import joblib\n",
    "import seaborn as sns\n",
    "\n",
    "from sklearn.preprocessing import StandardScaler\n",
    "from sklearn.neural_network import MLPClassifier\n",
    "from sklearn.neighbors import KNeighborsClassifier\n",
    "\n",
    "from sklearn.model_selection import cross_val_score, cross_val_predict, StratifiedKFold, GridSearchCV, StratifiedShuffleSplit\n",
    "\n",
    "from sklearn.metrics import accuracy_score, recall_score, precision_score, confusion_matrix,ConfusionMatrixDisplay\n",
    "from sklearn.pipeline import Pipeline"
   ]
  },
  {
   "cell_type": "markdown",
   "metadata": {
    "id": "80GUr0JhLgNF"
   },
   "source": [
    "## Loading Data\n",
    "\n",
    "Notice that the shape of each pattern is given by a $32 \\times 32 \\times 1$ tensor. Thus, you may have to reshape it to either a matrix or a vector depending on the task you want to perform."
   ]
  },
  {
   "cell_type": "code",
   "execution_count": 3,
   "metadata": {
    "colab": {
     "base_uri": "https://localhost:8080/",
     "height": 356
    },
    "id": "mf8YMNMRLgNG",
    "outputId": "06fe56c4-6156-443f-e3e0-9fa9338ca38f"
   },
   "outputs": [
    {
     "name": "stdout",
     "output_type": "stream",
     "text": [
      "dict_keys(['DESCR', 'target', 'target_test', 'data', 'data_test'])\n",
      "data_shape: (60000, 1024)\n",
      "data_test_shape: (10000, 1024)\n"
     ]
    }
   ],
   "source": [
    "f_bnch = \"mnist_32_32.bnch.joblib\"\n",
    "mnist = joblib.load(f_bnch)\n",
    "print(mnist.keys())\n",
    "\n",
    "print(\"data_shape: {0}\".format(mnist['data'].shape))\n",
    "print(\"data_test_shape: {0}\".format(mnist['data_test'].shape))"
   ]
  },
  {
   "cell_type": "code",
   "execution_count": 4,
   "metadata": {
    "id": "ukgRVgFXDtV2"
   },
   "outputs": [
    {
     "data": {
      "text/plain": [
       "{'DESCR': 'MNIST data set from Lecun site: http://yann.lecun.com/exdb/mnist/',\n",
       " 'target': array([5, 0, 4, ..., 5, 6, 8], dtype=uint8),\n",
       " 'target_test': array([7, 2, 1, ..., 4, 5, 6], dtype=uint8),\n",
       " 'data': array([[0, 0, 0, ..., 0, 0, 0],\n",
       "        [0, 0, 0, ..., 0, 0, 0],\n",
       "        [0, 0, 0, ..., 0, 0, 0],\n",
       "        ...,\n",
       "        [0, 0, 0, ..., 0, 0, 0],\n",
       "        [0, 0, 0, ..., 0, 0, 0],\n",
       "        [0, 0, 0, ..., 0, 0, 0]], dtype=uint8),\n",
       " 'data_test': array([[0, 0, 0, ..., 0, 0, 0],\n",
       "        [0, 0, 0, ..., 0, 0, 0],\n",
       "        [0, 0, 0, ..., 0, 0, 0],\n",
       "        ...,\n",
       "        [0, 0, 0, ..., 0, 0, 0],\n",
       "        [0, 0, 0, ..., 0, 0, 0],\n",
       "        [0, 0, 0, ..., 0, 0, 0]], dtype=uint8)}"
      ]
     },
     "execution_count": 4,
     "metadata": {},
     "output_type": "execute_result"
    }
   ],
   "source": [
    "mnist"
   ]
  },
  {
   "cell_type": "markdown",
   "metadata": {
    "id": "kdgdY2oDLgNG"
   },
   "source": [
    "## Data Exploration, Visualization and Correlations\n",
    "\n",
    "Descriptive statistics, boxplots and histograms."
   ]
  },
  {
   "cell_type": "markdown",
   "metadata": {
    "id": "Q8z_JKBkLgNG"
   },
   "source": [
    "### Some examples\n",
    "\n",
    "Plot 10 randomly chosen digit images as 5 x 2 subplots."
   ]
  },
  {
   "cell_type": "code",
   "execution_count": 5,
   "metadata": {
    "id": "FGUglYRkLgNG"
   },
   "outputs": [
    {
     "data": {
      "image/png": "[encoded data removed]",
      "text/plain": [
       "<Figure size 640x480 with 10 Axes>"
      ]
     },
     "metadata": {},
     "output_type": "display_data"
    }
   ],
   "source": [
    "#code the plotting here\n",
    "import random\n",
    "f, axis = plt.subplots(5,2)\n",
    "for i in range(5):\n",
    "  rand = random.randint(0,len(mnist['data'][0]))\n",
    "  rand2 = random.randint(0,len(mnist['data'][0]))\n",
    "\n",
    "  axis[i,0].imshow(mnist['data'][rand].reshape(32,32))\n",
    "  axis[i,1].imshow(mnist['data'][rand2].reshape(32,32))\n",
    "\n",
    "plt.show()"
   ]
  },
  {
   "cell_type": "code",
   "execution_count": 6,
   "metadata": {
    "id": "Lq3SOtNkZ4HC"
   },
   "outputs": [],
   "source": [
    "mnist_reshaped = [a.reshape(32,32) for a in mnist['data']]\n"
   ]
  },
  {
   "cell_type": "markdown",
   "metadata": {
    "id": "MK5CradFLgNG"
   },
   "source": [
    "### Descriptive analysis"
   ]
  },
  {
   "cell_type": "markdown",
   "metadata": {
    "id": "_1XHk-ujLgNG"
   },
   "source": [
    "Build a DataFrame to make easier the exploratory analysis."
   ]
  },
  {
   "cell_type": "code",
   "execution_count": 7,
   "metadata": {
    "id": "YZ4CZwZ5LgNH"
   },
   "outputs": [
    {
     "data": {
      "text/html": [
       "<div>\n",
       "<style scoped>\n",
       "    .dataframe tbody tr th:only-of-type {\n",
       "        vertical-align: middle;\n",
       "    }\n",
       "\n",
       "    .dataframe tbody tr th {\n",
       "        vertical-align: top;\n",
       "    }\n",
       "\n",
       "    .dataframe thead th {\n",
       "        text-align: right;\n",
       "    }\n",
       "</style>\n",
       "<table border=\"1\" class=\"dataframe\">\n",
       "  <thead>\n",
       "    <tr style=\"text-align: right;\">\n",
       "      <th></th>\n",
       "      <th>0</th>\n",
       "      <th>1</th>\n",
       "      <th>2</th>\n",
       "      <th>3</th>\n",
       "      <th>4</th>\n",
       "      <th>5</th>\n",
       "      <th>6</th>\n",
       "      <th>7</th>\n",
       "      <th>8</th>\n",
       "      <th>9</th>\n",
       "      <th>...</th>\n",
       "      <th>1014</th>\n",
       "      <th>1015</th>\n",
       "      <th>1016</th>\n",
       "      <th>1017</th>\n",
       "      <th>1018</th>\n",
       "      <th>1019</th>\n",
       "      <th>1020</th>\n",
       "      <th>1021</th>\n",
       "      <th>1022</th>\n",
       "      <th>1023</th>\n",
       "    </tr>\n",
       "  </thead>\n",
       "  <tbody>\n",
       "    <tr>\n",
       "      <th>0</th>\n",
       "      <td>0</td>\n",
       "      <td>0</td>\n",
       "      <td>0</td>\n",
       "      <td>0</td>\n",
       "      <td>0</td>\n",
       "      <td>0</td>\n",
       "      <td>0</td>\n",
       "      <td>0</td>\n",
       "      <td>0</td>\n",
       "      <td>0</td>\n",
       "      <td>...</td>\n",
       "      <td>0</td>\n",
       "      <td>0</td>\n",
       "      <td>0</td>\n",
       "      <td>0</td>\n",
       "      <td>0</td>\n",
       "      <td>0</td>\n",
       "      <td>0</td>\n",
       "      <td>0</td>\n",
       "      <td>0</td>\n",
       "      <td>0</td>\n",
       "    </tr>\n",
       "    <tr>\n",
       "      <th>1</th>\n",
       "      <td>0</td>\n",
       "      <td>0</td>\n",
       "      <td>0</td>\n",
       "      <td>0</td>\n",
       "      <td>0</td>\n",
       "      <td>0</td>\n",
       "      <td>0</td>\n",
       "      <td>0</td>\n",
       "      <td>0</td>\n",
       "      <td>0</td>\n",
       "      <td>...</td>\n",
       "      <td>0</td>\n",
       "      <td>0</td>\n",
       "      <td>0</td>\n",
       "      <td>0</td>\n",
       "      <td>0</td>\n",
       "      <td>0</td>\n",
       "      <td>0</td>\n",
       "      <td>0</td>\n",
       "      <td>0</td>\n",
       "      <td>0</td>\n",
       "    </tr>\n",
       "    <tr>\n",
       "      <th>2</th>\n",
       "      <td>0</td>\n",
       "      <td>0</td>\n",
       "      <td>0</td>\n",
       "      <td>0</td>\n",
       "      <td>0</td>\n",
       "      <td>0</td>\n",
       "      <td>0</td>\n",
       "      <td>0</td>\n",
       "      <td>0</td>\n",
       "      <td>0</td>\n",
       "      <td>...</td>\n",
       "      <td>0</td>\n",
       "      <td>0</td>\n",
       "      <td>0</td>\n",
       "      <td>0</td>\n",
       "      <td>0</td>\n",
       "      <td>0</td>\n",
       "      <td>0</td>\n",
       "      <td>0</td>\n",
       "      <td>0</td>\n",
       "      <td>0</td>\n",
       "    </tr>\n",
       "    <tr>\n",
       "      <th>3</th>\n",
       "      <td>0</td>\n",
       "      <td>0</td>\n",
       "      <td>0</td>\n",
       "      <td>0</td>\n",
       "      <td>0</td>\n",
       "      <td>0</td>\n",
       "      <td>0</td>\n",
       "      <td>0</td>\n",
       "      <td>0</td>\n",
       "      <td>0</td>\n",
       "      <td>...</td>\n",
       "      <td>0</td>\n",
       "      <td>0</td>\n",
       "      <td>0</td>\n",
       "      <td>0</td>\n",
       "      <td>0</td>\n",
       "      <td>0</td>\n",
       "      <td>0</td>\n",
       "      <td>0</td>\n",
       "      <td>0</td>\n",
       "      <td>0</td>\n",
       "    </tr>\n",
       "    <tr>\n",
       "      <th>4</th>\n",
       "      <td>0</td>\n",
       "      <td>0</td>\n",
       "      <td>0</td>\n",
       "      <td>0</td>\n",
       "      <td>0</td>\n",
       "      <td>0</td>\n",
       "      <td>0</td>\n",
       "      <td>0</td>\n",
       "      <td>0</td>\n",
       "      <td>0</td>\n",
       "      <td>...</td>\n",
       "      <td>0</td>\n",
       "      <td>0</td>\n",
       "      <td>0</td>\n",
       "      <td>0</td>\n",
       "      <td>0</td>\n",
       "      <td>0</td>\n",
       "      <td>0</td>\n",
       "      <td>0</td>\n",
       "      <td>0</td>\n",
       "      <td>0</td>\n",
       "    </tr>\n",
       "    <tr>\n",
       "      <th>...</th>\n",
       "      <td>...</td>\n",
       "      <td>...</td>\n",
       "      <td>...</td>\n",
       "      <td>...</td>\n",
       "      <td>...</td>\n",
       "      <td>...</td>\n",
       "      <td>...</td>\n",
       "      <td>...</td>\n",
       "      <td>...</td>\n",
       "      <td>...</td>\n",
       "      <td>...</td>\n",
       "      <td>...</td>\n",
       "      <td>...</td>\n",
       "      <td>...</td>\n",
       "      <td>...</td>\n",
       "      <td>...</td>\n",
       "      <td>...</td>\n",
       "      <td>...</td>\n",
       "      <td>...</td>\n",
       "      <td>...</td>\n",
       "      <td>...</td>\n",
       "    </tr>\n",
       "    <tr>\n",
       "      <th>59995</th>\n",
       "      <td>0</td>\n",
       "      <td>0</td>\n",
       "      <td>0</td>\n",
       "      <td>0</td>\n",
       "      <td>0</td>\n",
       "      <td>0</td>\n",
       "      <td>0</td>\n",
       "      <td>0</td>\n",
       "      <td>0</td>\n",
       "      <td>0</td>\n",
       "      <td>...</td>\n",
       "      <td>0</td>\n",
       "      <td>0</td>\n",
       "      <td>0</td>\n",
       "      <td>0</td>\n",
       "      <td>0</td>\n",
       "      <td>0</td>\n",
       "      <td>0</td>\n",
       "      <td>0</td>\n",
       "      <td>0</td>\n",
       "      <td>0</td>\n",
       "    </tr>\n",
       "    <tr>\n",
       "      <th>59996</th>\n",
       "      <td>0</td>\n",
       "      <td>0</td>\n",
       "      <td>0</td>\n",
       "      <td>0</td>\n",
       "      <td>0</td>\n",
       "      <td>0</td>\n",
       "      <td>0</td>\n",
       "      <td>0</td>\n",
       "      <td>0</td>\n",
       "      <td>0</td>\n",
       "      <td>...</td>\n",
       "      <td>0</td>\n",
       "      <td>0</td>\n",
       "      <td>0</td>\n",
       "      <td>0</td>\n",
       "      <td>0</td>\n",
       "      <td>0</td>\n",
       "      <td>0</td>\n",
       "      <td>0</td>\n",
       "      <td>0</td>\n",
       "      <td>0</td>\n",
       "    </tr>\n",
       "    <tr>\n",
       "      <th>59997</th>\n",
       "      <td>0</td>\n",
       "      <td>0</td>\n",
       "      <td>0</td>\n",
       "      <td>0</td>\n",
       "      <td>0</td>\n",
       "      <td>0</td>\n",
       "      <td>0</td>\n",
       "      <td>0</td>\n",
       "      <td>0</td>\n",
       "      <td>0</td>\n",
       "      <td>...</td>\n",
       "      <td>0</td>\n",
       "      <td>0</td>\n",
       "      <td>0</td>\n",
       "      <td>0</td>\n",
       "      <td>0</td>\n",
       "      <td>0</td>\n",
       "      <td>0</td>\n",
       "      <td>0</td>\n",
       "      <td>0</td>\n",
       "      <td>0</td>\n",
       "    </tr>\n",
       "    <tr>\n",
       "      <th>59998</th>\n",
       "      <td>0</td>\n",
       "      <td>0</td>\n",
       "      <td>0</td>\n",
       "      <td>0</td>\n",
       "      <td>0</td>\n",
       "      <td>0</td>\n",
       "      <td>0</td>\n",
       "      <td>0</td>\n",
       "      <td>0</td>\n",
       "      <td>0</td>\n",
       "      <td>...</td>\n",
       "      <td>0</td>\n",
       "      <td>0</td>\n",
       "      <td>0</td>\n",
       "      <td>0</td>\n",
       "      <td>0</td>\n",
       "      <td>0</td>\n",
       "      <td>0</td>\n",
       "      <td>0</td>\n",
       "      <td>0</td>\n",
       "      <td>0</td>\n",
       "    </tr>\n",
       "    <tr>\n",
       "      <th>59999</th>\n",
       "      <td>0</td>\n",
       "      <td>0</td>\n",
       "      <td>0</td>\n",
       "      <td>0</td>\n",
       "      <td>0</td>\n",
       "      <td>0</td>\n",
       "      <td>0</td>\n",
       "      <td>0</td>\n",
       "      <td>0</td>\n",
       "      <td>0</td>\n",
       "      <td>...</td>\n",
       "      <td>0</td>\n",
       "      <td>0</td>\n",
       "      <td>0</td>\n",
       "      <td>0</td>\n",
       "      <td>0</td>\n",
       "      <td>0</td>\n",
       "      <td>0</td>\n",
       "      <td>0</td>\n",
       "      <td>0</td>\n",
       "      <td>0</td>\n",
       "    </tr>\n",
       "  </tbody>\n",
       "</table>\n",
       "<p>60000 rows × 1024 columns</p>\n",
       "</div>"
      ],
      "text/plain": [
       "       0     1     2     3     4     5     6     7     8     9     ...  1014  \\\n",
       "0         0     0     0     0     0     0     0     0     0     0  ...     0   \n",
       "1         0     0     0     0     0     0     0     0     0     0  ...     0   \n",
       "2         0     0     0     0     0     0     0     0     0     0  ...     0   \n",
       "3         0     0     0     0     0     0     0     0     0     0  ...     0   \n",
       "4         0     0     0     0     0     0     0     0     0     0  ...     0   \n",
       "...     ...   ...   ...   ...   ...   ...   ...   ...   ...   ...  ...   ...   \n",
       "59995     0     0     0     0     0     0     0     0     0     0  ...     0   \n",
       "59996     0     0     0     0     0     0     0     0     0     0  ...     0   \n",
       "59997     0     0     0     0     0     0     0     0     0     0  ...     0   \n",
       "59998     0     0     0     0     0     0     0     0     0     0  ...     0   \n",
       "59999     0     0     0     0     0     0     0     0     0     0  ...     0   \n",
       "\n",
       "       1015  1016  1017  1018  1019  1020  1021  1022  1023  \n",
       "0         0     0     0     0     0     0     0     0     0  \n",
       "1         0     0     0     0     0     0     0     0     0  \n",
       "2         0     0     0     0     0     0     0     0     0  \n",
       "3         0     0     0     0     0     0     0     0     0  \n",
       "4         0     0     0     0     0     0     0     0     0  \n",
       "...     ...   ...   ...   ...   ...   ...   ...   ...   ...  \n",
       "59995     0     0     0     0     0     0     0     0     0  \n",
       "59996     0     0     0     0     0     0     0     0     0  \n",
       "59997     0     0     0     0     0     0     0     0     0  \n",
       "59998     0     0     0     0     0     0     0     0     0  \n",
       "59999     0     0     0     0     0     0     0     0     0  \n",
       "\n",
       "[60000 rows x 1024 columns]"
      ]
     },
     "execution_count": 7,
     "metadata": {},
     "output_type": "execute_result"
    }
   ],
   "source": [
    "#define the DataFrame here\n",
    "\n",
    "df = pd.DataFrame(mnist['data'])\n",
    "df"
   ]
  },
  {
   "cell_type": "code",
   "execution_count": 8,
   "metadata": {
    "id": "VaxFp8jrLX03"
   },
   "outputs": [
    {
     "data": {
      "text/html": [
       "<div>\n",
       "<style scoped>\n",
       "    .dataframe tbody tr th:only-of-type {\n",
       "        vertical-align: middle;\n",
       "    }\n",
       "\n",
       "    .dataframe tbody tr th {\n",
       "        vertical-align: top;\n",
       "    }\n",
       "\n",
       "    .dataframe thead th {\n",
       "        text-align: right;\n",
       "    }\n",
       "</style>\n",
       "<table border=\"1\" class=\"dataframe\">\n",
       "  <thead>\n",
       "    <tr style=\"text-align: right;\">\n",
       "      <th></th>\n",
       "      <th>0</th>\n",
       "    </tr>\n",
       "  </thead>\n",
       "  <tbody>\n",
       "    <tr>\n",
       "      <th>0</th>\n",
       "      <td>5</td>\n",
       "    </tr>\n",
       "    <tr>\n",
       "      <th>1</th>\n",
       "      <td>0</td>\n",
       "    </tr>\n",
       "    <tr>\n",
       "      <th>2</th>\n",
       "      <td>4</td>\n",
       "    </tr>\n",
       "    <tr>\n",
       "      <th>3</th>\n",
       "      <td>1</td>\n",
       "    </tr>\n",
       "    <tr>\n",
       "      <th>4</th>\n",
       "      <td>9</td>\n",
       "    </tr>\n",
       "    <tr>\n",
       "      <th>...</th>\n",
       "      <td>...</td>\n",
       "    </tr>\n",
       "    <tr>\n",
       "      <th>59995</th>\n",
       "      <td>8</td>\n",
       "    </tr>\n",
       "    <tr>\n",
       "      <th>59996</th>\n",
       "      <td>3</td>\n",
       "    </tr>\n",
       "    <tr>\n",
       "      <th>59997</th>\n",
       "      <td>5</td>\n",
       "    </tr>\n",
       "    <tr>\n",
       "      <th>59998</th>\n",
       "      <td>6</td>\n",
       "    </tr>\n",
       "    <tr>\n",
       "      <th>59999</th>\n",
       "      <td>8</td>\n",
       "    </tr>\n",
       "  </tbody>\n",
       "</table>\n",
       "<p>60000 rows × 1 columns</p>\n",
       "</div>"
      ],
      "text/plain": [
       "       0\n",
       "0      5\n",
       "1      0\n",
       "2      4\n",
       "3      1\n",
       "4      9\n",
       "...   ..\n",
       "59995  8\n",
       "59996  3\n",
       "59997  5\n",
       "59998  6\n",
       "59999  8\n",
       "\n",
       "[60000 rows x 1 columns]"
      ]
     },
     "execution_count": 8,
     "metadata": {},
     "output_type": "execute_result"
    }
   ],
   "source": [
    "df_target= pd.DataFrame(mnist['target'])\n",
    "df_target"
   ]
  },
  {
   "cell_type": "markdown",
   "metadata": {
    "id": "I5gb1e_eLgNH"
   },
   "source": [
    "Describe the basic statistics of the pixels on the positions in the range `[494 : 502]` of the reshaped patterns.:"
   ]
  },
  {
   "cell_type": "code",
   "execution_count": 9,
   "metadata": {
    "id": "Fk-ykUTxLgNH"
   },
   "outputs": [
    {
     "data": {
      "text/html": [
       "<div>\n",
       "<style scoped>\n",
       "    .dataframe tbody tr th:only-of-type {\n",
       "        vertical-align: middle;\n",
       "    }\n",
       "\n",
       "    .dataframe tbody tr th {\n",
       "        vertical-align: top;\n",
       "    }\n",
       "\n",
       "    .dataframe thead th {\n",
       "        text-align: right;\n",
       "    }\n",
       "</style>\n",
       "<table border=\"1\" class=\"dataframe\">\n",
       "  <thead>\n",
       "    <tr style=\"text-align: right;\">\n",
       "      <th></th>\n",
       "      <th>494</th>\n",
       "      <th>495</th>\n",
       "      <th>496</th>\n",
       "      <th>497</th>\n",
       "      <th>498</th>\n",
       "      <th>499</th>\n",
       "      <th>500</th>\n",
       "      <th>501</th>\n",
       "      <th>502</th>\n",
       "    </tr>\n",
       "  </thead>\n",
       "  <tbody>\n",
       "    <tr>\n",
       "      <th>count</th>\n",
       "      <td>60000.000000</td>\n",
       "      <td>60000.000000</td>\n",
       "      <td>60000.000000</td>\n",
       "      <td>60000.000000</td>\n",
       "      <td>60000.000000</td>\n",
       "      <td>60000.000000</td>\n",
       "      <td>60000.000000</td>\n",
       "      <td>60000.000000</td>\n",
       "      <td>60000.000000</td>\n",
       "    </tr>\n",
       "    <tr>\n",
       "      <th>mean</th>\n",
       "      <td>86.867300</td>\n",
       "      <td>96.966550</td>\n",
       "      <td>111.371833</td>\n",
       "      <td>123.972067</td>\n",
       "      <td>129.806550</td>\n",
       "      <td>126.599550</td>\n",
       "      <td>108.880333</td>\n",
       "      <td>81.157633</td>\n",
       "      <td>55.225867</td>\n",
       "    </tr>\n",
       "    <tr>\n",
       "      <th>std</th>\n",
       "      <td>106.352823</td>\n",
       "      <td>108.717059</td>\n",
       "      <td>113.814008</td>\n",
       "      <td>111.606695</td>\n",
       "      <td>109.947771</td>\n",
       "      <td>112.149298</td>\n",
       "      <td>111.550601</td>\n",
       "      <td>104.694004</td>\n",
       "      <td>92.903764</td>\n",
       "    </tr>\n",
       "    <tr>\n",
       "      <th>min</th>\n",
       "      <td>0.000000</td>\n",
       "      <td>0.000000</td>\n",
       "      <td>0.000000</td>\n",
       "      <td>0.000000</td>\n",
       "      <td>0.000000</td>\n",
       "      <td>0.000000</td>\n",
       "      <td>0.000000</td>\n",
       "      <td>0.000000</td>\n",
       "      <td>0.000000</td>\n",
       "    </tr>\n",
       "    <tr>\n",
       "      <th>25%</th>\n",
       "      <td>0.000000</td>\n",
       "      <td>0.000000</td>\n",
       "      <td>0.000000</td>\n",
       "      <td>0.000000</td>\n",
       "      <td>0.000000</td>\n",
       "      <td>0.000000</td>\n",
       "      <td>0.000000</td>\n",
       "      <td>0.000000</td>\n",
       "      <td>0.000000</td>\n",
       "    </tr>\n",
       "    <tr>\n",
       "      <th>50%</th>\n",
       "      <td>6.000000</td>\n",
       "      <td>29.000000</td>\n",
       "      <td>64.000000</td>\n",
       "      <td>123.000000</td>\n",
       "      <td>141.000000</td>\n",
       "      <td>132.000000</td>\n",
       "      <td>64.000000</td>\n",
       "      <td>0.000000</td>\n",
       "      <td>0.000000</td>\n",
       "    </tr>\n",
       "    <tr>\n",
       "      <th>75%</th>\n",
       "      <td>211.000000</td>\n",
       "      <td>232.000000</td>\n",
       "      <td>252.000000</td>\n",
       "      <td>252.000000</td>\n",
       "      <td>252.000000</td>\n",
       "      <td>252.000000</td>\n",
       "      <td>251.000000</td>\n",
       "      <td>195.000000</td>\n",
       "      <td>81.000000</td>\n",
       "    </tr>\n",
       "    <tr>\n",
       "      <th>max</th>\n",
       "      <td>255.000000</td>\n",
       "      <td>255.000000</td>\n",
       "      <td>255.000000</td>\n",
       "      <td>255.000000</td>\n",
       "      <td>255.000000</td>\n",
       "      <td>255.000000</td>\n",
       "      <td>255.000000</td>\n",
       "      <td>255.000000</td>\n",
       "      <td>255.000000</td>\n",
       "    </tr>\n",
       "  </tbody>\n",
       "</table>\n",
       "</div>"
      ],
      "text/plain": [
       "                494           495           496           497           498  \\\n",
       "count  60000.000000  60000.000000  60000.000000  60000.000000  60000.000000   \n",
       "mean      86.867300     96.966550    111.371833    123.972067    129.806550   \n",
       "std      106.352823    108.717059    113.814008    111.606695    109.947771   \n",
       "min        0.000000      0.000000      0.000000      0.000000      0.000000   \n",
       "25%        0.000000      0.000000      0.000000      0.000000      0.000000   \n",
       "50%        6.000000     29.000000     64.000000    123.000000    141.000000   \n",
       "75%      211.000000    232.000000    252.000000    252.000000    252.000000   \n",
       "max      255.000000    255.000000    255.000000    255.000000    255.000000   \n",
       "\n",
       "                499           500           501           502  \n",
       "count  60000.000000  60000.000000  60000.000000  60000.000000  \n",
       "mean     126.599550    108.880333     81.157633     55.225867  \n",
       "std      112.149298    111.550601    104.694004     92.903764  \n",
       "min        0.000000      0.000000      0.000000      0.000000  \n",
       "25%        0.000000      0.000000      0.000000      0.000000  \n",
       "50%      132.000000     64.000000      0.000000      0.000000  \n",
       "75%      252.000000    251.000000    195.000000     81.000000  \n",
       "max      255.000000    255.000000    255.000000    255.000000  "
      ]
     },
     "execution_count": 9,
     "metadata": {},
     "output_type": "execute_result"
    }
   ],
   "source": [
    "#perform the description here\n",
    "\n",
    "df_desc = df.iloc[:, list(range(494,503))]\n",
    "df_desc.describe()\n",
    "\n"
   ]
  },
  {
   "cell_type": "code",
   "execution_count": 10,
   "metadata": {
    "id": "J0u4bY4LcEik"
   },
   "outputs": [
    {
     "name": "stderr",
     "output_type": "stream",
     "text": [
      "C:\\Users\\nawir\\AppData\\Local\\Temp\\ipykernel_6336\\1437929789.py:1: SettingWithCopyWarning: \n",
      "A value is trying to be set on a copy of a slice from a DataFrame.\n",
      "Try using .loc[row_indexer,col_indexer] = value instead\n",
      "\n",
      "See the caveats in the documentation: https://pandas.pydata.org/pandas-docs/stable/user_guide/indexing.html#returning-a-view-versus-a-copy\n",
      "  df_desc['target'] = mnist['target']\n"
     ]
    },
    {
     "data": {
      "text/html": [
       "<div>\n",
       "<style scoped>\n",
       "    .dataframe tbody tr th:only-of-type {\n",
       "        vertical-align: middle;\n",
       "    }\n",
       "\n",
       "    .dataframe tbody tr th {\n",
       "        vertical-align: top;\n",
       "    }\n",
       "\n",
       "    .dataframe thead th {\n",
       "        text-align: right;\n",
       "    }\n",
       "</style>\n",
       "<table border=\"1\" class=\"dataframe\">\n",
       "  <thead>\n",
       "    <tr style=\"text-align: right;\">\n",
       "      <th></th>\n",
       "      <th>494</th>\n",
       "      <th>495</th>\n",
       "      <th>496</th>\n",
       "      <th>497</th>\n",
       "      <th>498</th>\n",
       "      <th>499</th>\n",
       "      <th>500</th>\n",
       "      <th>501</th>\n",
       "      <th>502</th>\n",
       "      <th>target</th>\n",
       "    </tr>\n",
       "  </thead>\n",
       "  <tbody>\n",
       "    <tr>\n",
       "      <th>0</th>\n",
       "      <td>35</td>\n",
       "      <td>241</td>\n",
       "      <td>225</td>\n",
       "      <td>160</td>\n",
       "      <td>108</td>\n",
       "      <td>1</td>\n",
       "      <td>0</td>\n",
       "      <td>0</td>\n",
       "      <td>0</td>\n",
       "      <td>5</td>\n",
       "    </tr>\n",
       "    <tr>\n",
       "      <th>1</th>\n",
       "      <td>0</td>\n",
       "      <td>0</td>\n",
       "      <td>0</td>\n",
       "      <td>0</td>\n",
       "      <td>0</td>\n",
       "      <td>0</td>\n",
       "      <td>0</td>\n",
       "      <td>0</td>\n",
       "      <td>253</td>\n",
       "      <td>0</td>\n",
       "    </tr>\n",
       "    <tr>\n",
       "      <th>2</th>\n",
       "      <td>0</td>\n",
       "      <td>0</td>\n",
       "      <td>0</td>\n",
       "      <td>14</td>\n",
       "      <td>86</td>\n",
       "      <td>178</td>\n",
       "      <td>248</td>\n",
       "      <td>254</td>\n",
       "      <td>91</td>\n",
       "      <td>4</td>\n",
       "    </tr>\n",
       "    <tr>\n",
       "      <th>3</th>\n",
       "      <td>0</td>\n",
       "      <td>104</td>\n",
       "      <td>251</td>\n",
       "      <td>253</td>\n",
       "      <td>184</td>\n",
       "      <td>15</td>\n",
       "      <td>0</td>\n",
       "      <td>0</td>\n",
       "      <td>0</td>\n",
       "      <td>1</td>\n",
       "    </tr>\n",
       "    <tr>\n",
       "      <th>4</th>\n",
       "      <td>0</td>\n",
       "      <td>36</td>\n",
       "      <td>201</td>\n",
       "      <td>252</td>\n",
       "      <td>252</td>\n",
       "      <td>169</td>\n",
       "      <td>11</td>\n",
       "      <td>0</td>\n",
       "      <td>0</td>\n",
       "      <td>9</td>\n",
       "    </tr>\n",
       "    <tr>\n",
       "      <th>...</th>\n",
       "      <td>...</td>\n",
       "      <td>...</td>\n",
       "      <td>...</td>\n",
       "      <td>...</td>\n",
       "      <td>...</td>\n",
       "      <td>...</td>\n",
       "      <td>...</td>\n",
       "      <td>...</td>\n",
       "      <td>...</td>\n",
       "      <td>...</td>\n",
       "    </tr>\n",
       "    <tr>\n",
       "      <th>59995</th>\n",
       "      <td>8</td>\n",
       "      <td>188</td>\n",
       "      <td>253</td>\n",
       "      <td>253</td>\n",
       "      <td>245</td>\n",
       "      <td>140</td>\n",
       "      <td>4</td>\n",
       "      <td>0</td>\n",
       "      <td>0</td>\n",
       "      <td>8</td>\n",
       "    </tr>\n",
       "    <tr>\n",
       "      <th>59996</th>\n",
       "      <td>252</td>\n",
       "      <td>252</td>\n",
       "      <td>252</td>\n",
       "      <td>253</td>\n",
       "      <td>252</td>\n",
       "      <td>220</td>\n",
       "      <td>35</td>\n",
       "      <td>0</td>\n",
       "      <td>0</td>\n",
       "      <td>3</td>\n",
       "    </tr>\n",
       "    <tr>\n",
       "      <th>59997</th>\n",
       "      <td>253</td>\n",
       "      <td>248</td>\n",
       "      <td>147</td>\n",
       "      <td>148</td>\n",
       "      <td>91</td>\n",
       "      <td>2</td>\n",
       "      <td>0</td>\n",
       "      <td>0</td>\n",
       "      <td>0</td>\n",
       "      <td>5</td>\n",
       "    </tr>\n",
       "    <tr>\n",
       "      <th>59998</th>\n",
       "      <td>5</td>\n",
       "      <td>0</td>\n",
       "      <td>0</td>\n",
       "      <td>0</td>\n",
       "      <td>0</td>\n",
       "      <td>0</td>\n",
       "      <td>22</td>\n",
       "      <td>128</td>\n",
       "      <td>191</td>\n",
       "      <td>6</td>\n",
       "    </tr>\n",
       "    <tr>\n",
       "      <th>59999</th>\n",
       "      <td>0</td>\n",
       "      <td>0</td>\n",
       "      <td>2</td>\n",
       "      <td>63</td>\n",
       "      <td>180</td>\n",
       "      <td>254</td>\n",
       "      <td>233</td>\n",
       "      <td>126</td>\n",
       "      <td>0</td>\n",
       "      <td>8</td>\n",
       "    </tr>\n",
       "  </tbody>\n",
       "</table>\n",
       "<p>60000 rows × 10 columns</p>\n",
       "</div>"
      ],
      "text/plain": [
       "       494  495  496  497  498  499  500  501  502  target\n",
       "0       35  241  225  160  108    1    0    0    0       5\n",
       "1        0    0    0    0    0    0    0    0  253       0\n",
       "2        0    0    0   14   86  178  248  254   91       4\n",
       "3        0  104  251  253  184   15    0    0    0       1\n",
       "4        0   36  201  252  252  169   11    0    0       9\n",
       "...    ...  ...  ...  ...  ...  ...  ...  ...  ...     ...\n",
       "59995    8  188  253  253  245  140    4    0    0       8\n",
       "59996  252  252  252  253  252  220   35    0    0       3\n",
       "59997  253  248  147  148   91    2    0    0    0       5\n",
       "59998    5    0    0    0    0    0   22  128  191       6\n",
       "59999    0    0    2   63  180  254  233  126    0       8\n",
       "\n",
       "[60000 rows x 10 columns]"
      ]
     },
     "execution_count": 10,
     "metadata": {},
     "output_type": "execute_result"
    }
   ],
   "source": [
    "df_desc['target'] = mnist['target']\n",
    "df_desc"
   ]
  },
  {
   "cell_type": "markdown",
   "metadata": {
    "id": "0wc-5mgeLgNH"
   },
   "source": [
    "### Boxplots\n",
    "\n",
    "Compute and display the boxplots of pixels in the range `[494 : 502]`."
   ]
  },
  {
   "cell_type": "code",
   "execution_count": 12,
   "metadata": {
    "id": "0aGOeM-gLgNH"
   },
   "outputs": [
    {
     "data": {
      "text/plain": [
       "<AxesSubplot:xlabel='target'>"
      ]
     },
     "execution_count": 12,
     "metadata": {},
     "output_type": "execute_result"
    },
    {
     "data": {
      "image/png": "[encoded data removed]",
      "text/plain": [
       "<Figure size 640x480 with 1 Axes>"
      ]
     },
     "metadata": {},
     "output_type": "display_data"
    }
   ],
   "source": [
    "#code the boxplots here\n",
    "import seaborn as sns\n",
    "sns.set()\n",
    "sns.boxplot(df_desc['target'])\n"
   ]
  },
  {
   "cell_type": "markdown",
   "metadata": {
    "id": "6zGQcp3DLgNH"
   },
   "source": [
    "### Histograms and scatterplots\n",
    "\n",
    "Plot pairplots and histograms over the previous pixel range using `sns.pairplot`.  \n",
    "To do so select first two target digits (e.g., 2 and 7) and apply `pairplot` only on patterns from those two targets."
   ]
  },
  {
   "cell_type": "code",
   "execution_count": null,
   "metadata": {
    "id": "Nd9GAavaLgNH"
   },
   "outputs": [],
   "source": [
    "#select two target digits and apply sns.pairplot on the indicated pixel range\n",
    "\n",
    "selected_targets = df_desc[(df_desc['target']==2) | (df_desc['target']==7)]\n",
    "selected_targets"
   ]
  },
  {
   "cell_type": "code",
   "execution_count": null,
   "metadata": {
    "id": "445c-Wa4LBJX"
   },
   "outputs": [],
   "source": [
    "#we choose some features we expect to be meaningful\n",
    "pair_plot = sns.pairplot(selected_targets[0:100], hue= 'target', diag_kind=\"kde\", diag_kws=dict(fill=True))\n",
    "plt.show()"
   ]
  },
  {
   "cell_type": "code",
   "execution_count": null,
   "metadata": {
    "id": "8QAp9qOzOjEQ"
   },
   "outputs": [],
   "source": [
    "df_desc = df_desc.drop(['target'],axis=1)"
   ]
  },
  {
   "cell_type": "markdown",
   "metadata": {
    "id": "2VRCeGC_LgNH"
   },
   "source": [
    "### Correlations\n",
    "\n",
    "Use the previous pixel range but drop the `target` column.\n",
    "\n",
    "Use directly a heatmap to display the correlations."
   ]
  },
  {
   "cell_type": "code",
   "execution_count": null,
   "metadata": {
    "id": "N4H_lTOqLgNI"
   },
   "outputs": [],
   "source": [
    "#display the correlations of the pixel range as a heatmap\n",
    "#sns.heatmap(df_desc.corr())\n",
    "\n",
    "n_colors = 9\n",
    "cMap = plt.cm.get_cmap(\"bwr\",lut=n_colors ) \n",
    "\n",
    "# define the heatmap\n",
    "plt.figure( figsize=(10, 8))\n",
    "plt.title('pixel_correlations')\n",
    "h_map = sns.heatmap(df_desc.corr().values,\n",
    "                    vmin=-1., vmax=1., \n",
    "                    cmap=cMap, \n",
    "                    annot=True, \n",
    "                    xticklabels=list(df_desc),\n",
    "                    yticklabels=list(df_desc))\n",
    "plt.xticks(rotation=90) \n",
    "\n",
    "# generate the heatmap\n",
    "plt.show()\n"
   ]
  },
  {
   "cell_type": "markdown",
   "metadata": {
    "id": "UmxWtFyALgNI"
   },
   "source": [
    "### Data Analysis Conclusions\n",
    "\n",
    "Write down here a summary of your conclusions after the basic data analysis"
   ]
  },
  {
   "cell_type": "markdown",
   "metadata": {
    "id": "iWfvLVn2LgNI"
   },
   "source": [
    "# Classiffiers\n",
    "\n",
    "We are going to build a $k$-NN and an MLP classifier **over the test dataset**.  \n",
    "But before working with any classifier, we split first the test dataset into a train-validation and a test subset.  \n",
    "Use for this the class `StratifiedShuffleSplit` from scikit-learn. Set the `test_size` parameter to either `0.5` or `0.75`."
   ]
  },
  {
   "cell_type": "markdown",
   "metadata": {
    "id": "etTq6mJwLgNI"
   },
   "source": [
    "### Splitting the test dataset"
   ]
  },
  {
   "cell_type": "code",
   "execution_count": null,
   "metadata": {
    "id": "BDqR6ummLgNI"
   },
   "outputs": [],
   "source": [
    "#split the test dataset here\n",
    "cv = StratifiedShuffleSplit(n_splits=5, test_size=0.5, random_state=0)\n",
    "X = mnist['data']\n",
    "y = mnist['target']\n"
   ]
  },
  {
   "cell_type": "markdown",
   "metadata": {
    "id": "8uIWdb3jLgNI"
   },
   "source": [
    "## k-NN Classification\n",
    "\n",
    "> Girintili blok\n",
    "\n"
   ]
  },
  {
   "cell_type": "markdown",
   "metadata": {
    "id": "gRYpGUAcLgNI"
   },
   "source": [
    "### Grid Search of Optimal Number of neighbors"
   ]
  },
  {
   "cell_type": "code",
   "execution_count": null,
   "metadata": {
    "id": "a9lpfCaKLgNI"
   },
   "outputs": [],
   "source": [
    "#define a knn classifier and use CV to estimate the best number of neighbors\n",
    "param_grid = {'n_neighbors': np.arange(1, 11)}\n",
    "\n",
    "# Perform grid search and fit KNN model\n",
    "knn = KNeighborsClassifier()\n",
    "grid_search = GridSearchCV(knn, param_grid=param_grid, cv=cv, scoring='accuracy')\n",
    "grid_search.fit(X, y)\n",
    "\n",
    "# Print best parameter and accuracy score\n",
    "print(\"Best parameter: \", grid_search.best_params_)\n",
    "print(\"Best accuracy score: \", grid_search.best_score_)\n"
   ]
  },
  {
   "cell_type": "markdown",
   "metadata": {
    "id": "y-fHeKPqLgNI"
   },
   "source": [
    "### Search Results \n",
    "\n",
    "We first examine the test scores of the 5 best hyperparameters."
   ]
  },
  {
   "cell_type": "code",
   "execution_count": null,
   "metadata": {
    "id": "AYoNTtQpLgNJ"
   },
   "outputs": [],
   "source": [
    "#transfor the CV results into a DataFrame and display the 5 best results\n",
    "cv_knn_df = pd.DataFrame()\n",
    "cv_knn_df['Params'] = list(range(1,11))\n",
    "cv_knn_df['Results'] = grid_search.cv_results_['mean_test_score']\n",
    "\n"
   ]
  },
  {
   "cell_type": "code",
   "execution_count": null,
   "metadata": {
    "id": "OG38i1UX85Xn"
   },
   "outputs": [],
   "source": [
    "cv_knn_df"
   ]
  },
  {
   "cell_type": "code",
   "execution_count": null,
   "metadata": {
    "id": "BQTZehut877u"
   },
   "outputs": [],
   "source": [
    "#plot the test scores that correspond to each number of neighbors\n",
    "sns.scatterplot(cv_knn_df, x = 'Params',y='Results')"
   ]
  },
  {
   "cell_type": "markdown",
   "metadata": {
    "id": "EHvGGd-eLgNJ"
   },
   "source": [
    "We analyze the CV results to check whether the CV ranges used are correct."
   ]
  },
  {
   "cell_type": "markdown",
   "metadata": {
    "id": "iQxDLM5ZLgNJ"
   },
   "source": [
    "### Test Accuracy and Confusion Matrix\n",
    "\n",
    "Precision and recall can also be defined for multiclass problems but we will skip them."
   ]
  },
  {
   "cell_type": "code",
   "execution_count": null,
   "metadata": {
    "id": "tb11aXpDLgNJ"
   },
   "outputs": [],
   "source": [
    "from sklearn import neighbors\n",
    "#compute the test predictions, their accuracy and confusion matrix and discuss your results\n",
    "\n",
    "knn = KNeighborsClassifier(n_neighbors=3)\n",
    "knn.fit(X,y)\n",
    "pred = knn.predict(mnist['data_test'])\n",
    "acc = accuracy_score(pred,mnist['target_test'])\n"
   ]
  },
  {
   "cell_type": "code",
   "execution_count": null,
   "metadata": {
    "id": "ZhLz9-I--3W8"
   },
   "outputs": [],
   "source": [
    "acc"
   ]
  },
  {
   "cell_type": "code",
   "execution_count": null,
   "metadata": {
    "id": "2t0dDYXN_AGU"
   },
   "outputs": [],
   "source": [
    "conf_matrix =confusion_matrix(mnist['target_test'], pred)"
   ]
  },
  {
   "cell_type": "code",
   "execution_count": null,
   "metadata": {
    "id": "XXSZ6mtiDozj"
   },
   "outputs": [],
   "source": [
    "fig, ax = plt.subplots(figsize=(8,6), dpi=100)\n",
    "\n",
    "# initialize using the raw 2D confusion matrix \n",
    "# and output labels (in our case, it's 0 and 1)\n",
    "display = ConfusionMatrixDisplay(conf_matrix, display_labels=knn.classes_)\n",
    "\n",
    "# set the plot title using the axes object\n",
    "ax.set(title='Confusion Matrix for the Diabetes Detection Model')\n",
    "\n",
    "# show the plot. \n",
    "# Pass the parameter ax to show customizations (ex. title) \n",
    "display.plot(ax=ax);\n"
   ]
  },
  {
   "cell_type": "code",
   "execution_count": null,
   "metadata": {
    "id": "YLePsMrnD_MG"
   },
   "outputs": [],
   "source": [
    "fig, ax = plt.subplots(nrows=4,ncols=5, figsize=(12,9),)\n",
    "target_test = mnist['target_test']\n",
    "\n",
    "for i in range(4):\n",
    "  rand_list = [random.randrange(0,len(mnist['data_test'])) for x in range(5)]\n",
    "\n",
    "  ax[i,0].imshow(mnist['data_test'][rand_list[0]].reshape(32,32))\n",
    "  ax[i,0].set_title(f'Pred: {pred[rand_list[0]]}, True: {target_test[rand_list[0]]}')\n",
    "\n",
    "  ax[i,1].imshow(mnist['data_test'][rand_list[1]].reshape(32,32))\n",
    "  ax[i,1].set_title(f'Pred: {pred[rand_list[1]]}, True: {target_test[rand_list[1]]}')\n",
    "\n",
    "  ax[i,2].imshow(mnist['data_test'][rand_list[2]].reshape(32,32))\n",
    "  ax[i,2].set_title(f'Pred: {pred[rand_list[2]]}, True: {target_test[rand_list[2]]}')\n",
    "\n",
    "  ax[i,3].imshow(mnist['data_test'][rand_list[3]].reshape(32,32))\n",
    "  ax[i,3].set_title(f'Pred: {pred[rand_list[3]]}, True: {target_test[rand_list[3]]}')\n",
    "\n",
    "  ax[i,4].imshow(mnist['data_test'][rand_list[4]].reshape(32,32))\n",
    "  ax[i,4].set_title(f'Pred: {pred[rand_list[4]]}, True: {target_test[rand_list[4]]}')\n",
    "\n",
    "fig.tight_layout(pad=1.0)\n",
    "for ax in fig.axes:\n",
    "    ax.axis('off')\n",
    "\n",
    "plt.show()\n"
   ]
  },
  {
   "cell_type": "markdown",
   "metadata": {
    "id": "475vOfalLgNJ"
   },
   "source": [
    "### Conclusions on the $k$-NN classifier\n",
    "\n",
    "Discuss your results here"
   ]
  },
  {
   "cell_type": "markdown",
   "metadata": {
    "id": "CzIYBnVHLgNK"
   },
   "source": [
    "## MLP Classifier"
   ]
  },
  {
   "cell_type": "markdown",
   "metadata": {
    "id": "CP-jE5sfLgNK"
   },
   "source": [
    "### CV Hyperparametrization\n",
    "\n",
    "Define an appropriate `MLPClassifier` and perform CV to select proper `alpha` and `hidden_layer_sizes` hyperparameters."
   ]
  },
  {
   "cell_type": "code",
   "execution_count": null,
   "metadata": {
    "id": "6-3B-r-dLgNK"
   },
   "outputs": [],
   "source": [
    "#define an appropriate MLP classifier and perform CV to select proper alpha and hidden_layer_sizes\n",
    "\n",
    "\n",
    "mlp_classifier = Pipeline(steps=[('std_sc', StandardScaler()),\n",
    "                                 ('mlpc', MLPClassifier(solver='adam', \n",
    "                                                        activation='relu',\n",
    "                                                        tol=1.e-4, \n",
    "                                                        max_iter=2000,\n",
    "                                                        warm_start=False,\n",
    "                                                        shuffle=True))])\n",
    "\n",
    "l_hidden_layer_sizes = [(20,), (20, 20)]\n",
    "l_alpha = [10.**k for k in range(-6, 4)]\n",
    "\n",
    "param_grid = {'mlpc__alpha': l_alpha, 'mlpc__hidden_layer_sizes': l_hidden_layer_sizes}\n",
    "\n",
    "mlpc_gscv = GridSearchCV(mlp_classifier, \n",
    "                         param_grid=param_grid, \n",
    "                         cv=cv, \n",
    "                         scoring='accuracy', \n",
    "                         return_train_score=True, \n",
    "                         n_jobs=-1, \n",
    "                         verbose=1)\n",
    "\n",
    "t_0 = time.time() \n",
    "_ = mlpc_gscv.fit(X, y)\n",
    "t_1 = time.time() \n",
    "print(\"\\nmlp_grid_search_time: {0:.2}m\".format((t_1 - t_0)/60.))\n",
    "\n",
    "# saving alpha_search in a pickle    \n",
    "joblib.dump(mlpc_gscv, 'mlp_classifier_gscv.joblib')"
   ]
  },
  {
   "cell_type": "code",
   "execution_count": null,
   "metadata": {
    "id": "q9UA98i4_H1a"
   },
   "outputs": [],
   "source": [
    "mlpc_gscv.cv_results_"
   ]
  },
  {
   "cell_type": "markdown",
   "metadata": {
    "id": "3X1_DeCaLgNK"
   },
   "source": [
    "### Search Results \n",
    "\n",
    "We first examine the test scores of the 5 best hyperparameters."
   ]
  },
  {
   "cell_type": "code",
   "execution_count": null,
   "metadata": {
    "id": "H65nsdR7LgNK"
   },
   "outputs": [],
   "source": [
    "#transfor the CV results into a DataFrame and display the 5 best results\n",
    "mlpc_gscv = joblib.load('mlp_classifier_gscv.joblib')\n",
    "df_cv_estimator = pd.DataFrame.from_dict(mlpc_gscv.cv_results_)\n",
    "\n",
    "display(df_cv_estimator[[\"param_mlpc__alpha\", \"param_mlpc__hidden_layer_sizes\", \"mean_test_score\"]].sort_values(by=\"mean_test_score\", ascending=False).head())"
   ]
  },
  {
   "cell_type": "markdown",
   "metadata": {
    "id": "sa8tApMoLgNK"
   },
   "source": [
    "We analyze the CV results to check whether the CV ranges used are correct."
   ]
  },
  {
   "cell_type": "code",
   "execution_count": null,
   "metadata": {
    "id": "38h66zT0LgNK"
   },
   "outputs": [],
   "source": [
    "#plot the test scores that correspond to each alpha; do this only for the best MLP architecture found\n",
    "mlpc_gscv = joblib.load('mlp_classifier_gscv.joblib')\n",
    "\n",
    "best_alpha = mlpc_gscv.best_params_['mlpc__alpha'] \n",
    "print(\"best alpha: %.6f\\t\" % best_alpha)\n",
    "print(\"alpha_min: %f\\talpha_max: %f\" % (np.array(l_alpha).min(), np.array(l_alpha).max()))\n",
    "\n",
    "best_hidden_layer_sizes = mlpc_gscv.best_params_['mlpc__hidden_layer_sizes'] \n",
    "print(\"best_hidden_layer_sizes\", best_hidden_layer_sizes, \"\\nacc: %.3f\" % mlpc_gscv.best_score_) \n",
    "\n",
    "idx_best_hidden_layer_sizes = [tup == best_hidden_layer_sizes for tup in df_cv_estimator['param_mlpc__hidden_layer_sizes'].values]\n",
    "idx_best_hidden_layer_sizes = np.array(idx_best_hidden_layer_sizes)\n",
    "\n",
    "plt.title(\"CV alpha vs accuracy\")\n",
    "plt.xscale('log')\n",
    "plt.xlabel(\"alpha\")\n",
    "plt.ylabel(\"cv_accuracy\")\n",
    "_ = plt.plot( df_cv_estimator[idx_best_hidden_layer_sizes]['param_mlpc__alpha'], \n",
    "              df_cv_estimator[idx_best_hidden_layer_sizes]['mean_test_score'])"
   ]
  },
  {
   "cell_type": "markdown",
   "metadata": {
    "id": "24fKA4TZLgNK"
   },
   "source": [
    "### Test MLPC Performance\n",
    "\n",
    "We check the test accuracy and confusion matrix."
   ]
  },
  {
   "cell_type": "code",
   "execution_count": null,
   "metadata": {
    "id": "RXcMdkoTLgNL"
   },
   "outputs": [],
   "source": [
    "#compute the test predictions, their accuracy and confusion matrix and discuss your results\n",
    "### CV accuracy, recall and precision of best model\n",
    "\n",
    "mlp_classifier = Pipeline(steps=[('std_sc', StandardScaler()),\n",
    "                                 ('mlpc', MLPClassifier(solver='adam', \n",
    "                                                        activation='relu',\n",
    "                                                        tol=1.e-4,\n",
    "                                                        hidden_layer_sizes=(20,20),\n",
    "                                                        alpha=1,\n",
    "                                                        max_iter=2000,\n",
    "                                                        warm_start=False,\n",
    "                                                        shuffle=True))])\n",
    "mlp_classifier.fit(X,y)\n"
   ]
  },
  {
   "cell_type": "code",
   "execution_count": null,
   "metadata": {
    "id": "iS_wMqP8BP8N"
   },
   "outputs": [],
   "source": [
    "pred = mlp_classifier.predict(mnist['data_test'])\n",
    "acc = accuracy_score(pred,mnist['target_test'])\n",
    "acc"
   ]
  },
  {
   "cell_type": "code",
   "execution_count": null,
   "metadata": {
    "id": "9R_uZkdoBhSF"
   },
   "outputs": [],
   "source": [
    "conf_matrix =confusion_matrix(mnist['target_test'], pred)"
   ]
  },
  {
   "cell_type": "code",
   "execution_count": null,
   "metadata": {
    "id": "ukM1g3fdBeKh"
   },
   "outputs": [],
   "source": [
    "fig, ax = plt.subplots(figsize=(8,6), dpi=100)\n",
    "\n",
    "# initialize using the raw 2D confusion matrix \n",
    "# and output labels (in our case, it's 0 and 1)\n",
    "display = ConfusionMatrixDisplay(conf_matrix, display_labels=mlp_classifier.classes_)\n",
    "\n",
    "# set the plot title using the axes object\n",
    "ax.set(title='Confusion Matrix for the Diabetes Detection Model')\n",
    "\n",
    "# show the plot. \n",
    "# Pass the parameter ax to show customizations (ex. title) \n",
    "display.plot(ax=ax);\n"
   ]
  },
  {
   "cell_type": "markdown",
   "metadata": {
    "id": "fhBxoI6LLgNL"
   },
   "source": [
    "### Conclusions on the MLP classifier\n",
    "\n",
    "Discuss your results here"
   ]
  },
  {
   "cell_type": "markdown",
   "metadata": {
    "id": "kmsU_GAsLgNL"
   },
   "source": [
    "### Predicting probabilities\n",
    "\n",
    "We compute class probabilities over the test subset and pairplot them over the 10 classes."
   ]
  },
  {
   "cell_type": "code",
   "execution_count": null,
   "metadata": {
    "id": "jIGDS4mnLgNL"
   },
   "outputs": [],
   "source": [
    "#compute the test prediction probabilities, and pairplot them here\n",
    "\n",
    "test_data = mnist['data_test']\n",
    "test_data\n",
    "pred_probs = mlp_classifier.predict_proba(test_data)\n",
    "pred_probs"
   ]
  },
  {
   "cell_type": "code",
   "execution_count": null,
   "metadata": {
    "id": "H2k1impHFiAT"
   },
   "outputs": [],
   "source": [
    "df_probs = pd.DataFrame(pred_probs)\n",
    "df_probs['target'] = mnist['target_test']\n",
    "df_probs"
   ]
  },
  {
   "cell_type": "code",
   "execution_count": null,
   "metadata": {
    "id": "V5eLf56_ES21"
   },
   "outputs": [],
   "source": [
    "sns.pairplot(data=df_probs, hue='target')\n",
    "plt.show()\n"
   ]
  },
  {
   "cell_type": "markdown",
   "metadata": {
    "id": "T6Qw36rHLgNL"
   },
   "source": [
    "### Conclusions on the probability pairplots\n",
    "\n",
    "Discuss the pairplot structure here"
   ]
  },
  {
   "cell_type": "markdown",
   "metadata": {
    "id": "W6bq2uShLgNL"
   },
   "source": [
    "### What went wrong?"
   ]
  },
  {
   "cell_type": "markdown",
   "metadata": {
    "id": "pKGOAfj_LgNL"
   },
   "source": [
    "Probably your classification results are not very impressive.\n",
    "\n",
    "As a first step to interpret them, find 10 cases of wrongly classified numbers, plot them and discuss your findings.  "
   ]
  },
  {
   "cell_type": "code",
   "execution_count": null,
   "metadata": {
    "id": "5ebZht3lLgNL"
   },
   "outputs": [],
   "source": [
    "#find these examples and plot the images here\n",
    "wrong_indices = np.where(pred != mnist['target_test'])[0]\n",
    "select_indices = wrong_indices[:10]\n",
    "fig, axs = plt.subplots(2, 5, figsize=(10, 5))\n",
    "for i, ax in enumerate(axs.flat):\n",
    "    index = select_indices[i]\n",
    "    image = mnist['data_test'][index].reshape(32, 32)\n",
    "    true_label = mnist['target_test'][index]\n",
    "    pred_label = pred[index]\n",
    "    ax.imshow(image, cmap='gray')\n",
    "    ax.set_title(f'True: {true_label}\\nPred: {pred_label}')\n",
    "    ax.axis('off')\n",
    "plt.tight_layout()\n",
    "plt.show()\n",
    "\n"
   ]
  },
  {
   "cell_type": "markdown",
   "metadata": {
    "id": "ioOHGStILgNL"
   },
   "source": [
    "## How to improve your results?\n",
    "\n",
    "Recapitulate and discuss your results here and propose some ideas on how to improve them"
   ]
  }
 ],
 "metadata": {
  "accelerator": "GPU",
  "colab": {
   "provenance": []
  },
  "gpuClass": "standard",
  "kernelspec": {
   "display_name": "Python 3 (ipykernel)",
   "language": "python",
   "name": "python3"
  },
  "language_info": {
   "codemirror_mode": {
    "name": "ipython",
    "version": 3
   },
   "file_extension": ".py",
   "mimetype": "text/x-python",
   "name": "python",
   "nbconvert_exporter": "python",
   "pygments_lexer": "ipython3",
   "version": "3.9.13"
  }
 },
 "nbformat": 4,
 "nbformat_minor": 1
}
